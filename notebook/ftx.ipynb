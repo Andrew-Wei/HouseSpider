{
 "cells": [
  {
   "cell_type": "code",
   "execution_count": 1,
   "metadata": {},
   "outputs": [
    {
     "name": "stdout",
     "output_type": "stream",
     "text": [
      "Populating the interactive namespace from numpy and matplotlib\n"
     ]
    }
   ],
   "source": [
    "%pylab inline\n",
    "import pandas as pd\n",
    "import re\n",
    "plt.rcParams['font.sans-serif']=['SimHei']"
   ]
  },
  {
   "cell_type": "code",
   "execution_count": 2,
   "metadata": {
    "collapsed": true
   },
   "outputs": [],
   "source": [
    "df = pd.read_csv('ftx.csv')"
   ]
  },
  {
   "cell_type": "code",
   "execution_count": 3,
   "metadata": {
    "collapsed": true
   },
   "outputs": [],
   "source": [
    "def extract_info(s, pattern):\n",
    "    result = re.findall(pattern, s)\n",
    "    if len(result) > 0:\n",
    "        return result[0]\n",
    "    else:\n",
    "        return np.nan\n",
    "    \n",
    "def split_house_info(s):\n",
    "    infos = s.split(',')\n",
    "    result = '|'\n",
    "    for info in infos:\n",
    "        result = result + info.strip() + '|'\n",
    "    return result"
   ]
  },
  {
   "cell_type": "code",
   "execution_count": 4,
   "metadata": {
    "collapsed": true
   },
   "outputs": [],
   "source": [
    "df['info'].fillna('', inplace=True)\n",
    "df['info'] = df['info'].apply(split_house_info)"
   ]
  },
  {
   "cell_type": "code",
   "execution_count": 5,
   "metadata": {
    "collapsed": true,
    "scrolled": true
   },
   "outputs": [],
   "source": [
    "df['area'].fillna('', inplace=True)\n",
    "df['unit_price'].fillna('', inplace=True)\n",
    "df['area'] = df.apply(lambda row: extract_info(row['area'], r'\\d+(?=㎡)'), axis=1).astype(int, errors='ignore')\n",
    "df['unit_price'] = df.apply(lambda row: extract_info(row['unit_price'], r'\\d+(?=元)'), axis=1).astype(int, errors='ignore')"
   ]
  },
  {
   "cell_type": "code",
   "execution_count": 6,
   "metadata": {
    "collapsed": true
   },
   "outputs": [],
   "source": [
    "df['rooms'] = df.apply(lambda row: extract_info(row['info'], r'\\d(?=室)'), axis=1).astype(float)\n",
    "df['halls'] = df.apply(lambda row: extract_info(row['info'], r'\\d(?=厅)'), axis=1).astype(float)\n",
    "df['years'] = df.apply(lambda row: extract_info(row['info'], r'建筑年代：(\\d+)'), axis=1).astype(int, errors='ignore')"
   ]
  },
  {
   "cell_type": "code",
   "execution_count": 7,
   "metadata": {
    "collapsed": true
   },
   "outputs": [],
   "source": [
    "df['url'] = 'http://esf.nanjing.fang.com' + df['url']\n",
    "df['loc_url'] = 'http://esf.nanjing.fang.com' + df['loc_url']"
   ]
  },
  {
   "cell_type": "code",
   "execution_count": 8,
   "metadata": {
    "collapsed": true
   },
   "outputs": [],
   "source": [
    "df2 = df.reindex(columns=['area', 'price', 'unit_price', 'rooms', 'halls', 'years',\n",
    "                    'loc', 'loc_detail', 'title', 'url', 'info', 'loc_url', 'pub_time',\n",
    "       'tags'])"
   ]
  },
  {
   "cell_type": "markdown",
   "metadata": {},
   "source": [
    "## 把提取过的信息保存到excel"
   ]
  },
  {
   "cell_type": "code",
   "execution_count": 9,
   "metadata": {
    "collapsed": true
   },
   "outputs": [],
   "source": [
    "df2.to_excel('ftx.xlsx')"
   ]
  },
  {
   "cell_type": "code",
   "execution_count": null,
   "metadata": {
    "collapsed": true
   },
   "outputs": [],
   "source": []
  }
 ],
 "metadata": {
  "kernelspec": {
   "display_name": "Python 3",
   "language": "python",
   "name": "python3"
  },
  "language_info": {
   "codemirror_mode": {
    "name": "ipython",
    "version": 3
   },
   "file_extension": ".py",
   "mimetype": "text/x-python",
   "name": "python",
   "nbconvert_exporter": "python",
   "pygments_lexer": "ipython3",
   "version": "3.6.1"
  }
 },
 "nbformat": 4,
 "nbformat_minor": 2
}
